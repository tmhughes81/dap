{
 "cells": [
  {
   "cell_type": "markdown",
   "metadata": {},
   "source": [
    "# Disputed Author Project (dap)"
   ]
  },
  {
   "cell_type": "code",
   "execution_count": 56,
   "metadata": {
    "collapsed": true
   },
   "outputs": [],
   "source": [
    "import pandas as pd\n",
    "import numpy as np"
   ]
  },
  {
   "cell_type": "code",
   "execution_count": 57,
   "metadata": {
    "collapsed": false
   },
   "outputs": [
    {
     "name": "stdout",
     "output_type": "stream",
     "text": [
      "Adding Aristotle Economics_I\n",
      "Adding Aristotle Economics_II\n",
      "Adding Aristotle Ethica_Eudemia_I\n",
      "Adding Aristotle Ethica_Eudemia_II\n",
      "Adding Aristotle Ethica_Eudemia_III\n",
      "Adding Aristotle Ethica_Eudemia_IV\n",
      "Adding Aristotle Ethica_Eudemia_V\n",
      "Adding Aristotle Metaphysics_I\n",
      "Adding Aristotle Metaphysics_II\n",
      "Adding Aristotle Metaphysics_III\n",
      "Adding Aristotle Metaphysics_IV\n",
      "Adding Aristotle Metaphysics_IX\n",
      "Adding Aristotle Metaphysics_V\n",
      "Adding Aristotle Metaphysics_VI\n",
      "Adding Aristotle Metaphysics_VII\n",
      "Adding Aristotle Metaphysics_VIII\n",
      "Adding Aristotle Metaphysics_X\n",
      "Adding Aristotle Metaphysics_XI\n",
      "Adding Aristotle Metaphysics_XII\n",
      "Adding Aristotle Metaphysics_XIII\n",
      "Adding Aristotle Metaphysics_XIV\n",
      "Adding Aristotle Nico_Ethics_I\n",
      "Adding Aristotle Nico_Ethics_II\n",
      "Adding Aristotle Nico_Ethics_III\n",
      "Adding Aristotle Nico_Ethics_IV\n",
      "Adding Aristotle Nico_Ethics_IX\n",
      "Adding Aristotle Nico_Ethics_V\n",
      "Adding Aristotle Nico_Ethics_VI\n",
      "Adding Aristotle Nico_Ethics_VII\n",
      "Adding Aristotle Nico_Ethics_VIII\n",
      "Adding Aristotle Nico_Ethics_X\n",
      "Adding Aristotle Poetics\n",
      "Adding Aristotle Poetics~\n",
      "Adding Aristotle Politics_I\n",
      "Adding Aristotle Politics_II\n",
      "Adding Aristotle Politics_III\n",
      "Adding Aristotle Politics_IV\n",
      "Adding Aristotle Politics_V\n",
      "Adding Aristotle Politics_VI\n",
      "Adding Aristotle Politics_VII\n",
      "Adding Aristotle Politics_VIII\n",
      "Adding Aristotle Rhetoric_I\n",
      "Adding Aristotle Rhetoric_II\n",
      "Adding Aristotle Rhetoric_III\n",
      "Adding Aristotle Virtues_and_Vices\n",
      "Adding Plato Alcibiades_I\n",
      "Adding Plato Alcibiades_II\n",
      "Adding Plato Apology\n",
      "Adding Plato Charmides\n",
      "Adding Plato Cleitophon\n",
      "Adding Plato Cratylus\n",
      "Adding Plato Critias\n",
      "Adding Plato Crito\n",
      "Adding Plato Epinomis\n",
      "Adding Plato Euthydemus\n",
      "Adding Plato Euthyphro\n",
      "Adding Plato Gorgias\n",
      "Adding Plato Greater_Hippias\n",
      "Adding Plato Hipparchus\n",
      "Adding Plato Ion\n",
      "Adding Plato Laches\n",
      "Adding Plato Laws_I\n",
      "Adding Plato Laws_II\n",
      "Adding Plato Laws_III\n",
      "Adding Plato Laws_IV\n",
      "Adding Plato Laws_IX\n",
      "Adding Plato Laws_V\n",
      "Adding Plato Laws_VI\n",
      "Adding Plato Laws_VII\n",
      "Adding Plato Laws_VIII\n",
      "Adding Plato Laws_X\n",
      "Adding Plato Laws_XI\n",
      "Adding Plato Laws_XII\n",
      "Adding Plato Lesser_Hippias\n",
      "Adding Plato Letter_I\n",
      "Adding Plato Letter_II\n",
      "Adding Plato Letter_III\n",
      "Adding Plato Letter_IV\n",
      "Adding Plato Letter_IX\n",
      "Adding Plato Letter_V\n",
      "Adding Plato Letter_VI\n",
      "Adding Plato Letter_VII\n",
      "Adding Plato Letter_VIII\n",
      "Adding Plato Letter_X\n",
      "Adding Plato Letter_XI\n",
      "Adding Plato Letter_XII\n",
      "Adding Plato Letter_XIII\n",
      "Adding Plato Lovers\n",
      "Adding Plato Lysis\n",
      "Adding Plato Menexenus\n",
      "Adding Plato Meno\n",
      "Adding Plato Minos\n",
      "Adding Plato Parmenides\n",
      "Adding Plato Phaedo\n",
      "Adding Plato Phaedrus\n",
      "Adding Plato Philebus\n",
      "Adding Plato Protagoras\n",
      "Adding Plato Republic_I\n",
      "Adding Plato Republic_II\n",
      "Adding Plato Republic_III\n",
      "Adding Plato Republic_IV\n",
      "Adding Plato Republic_IX\n",
      "Adding Plato Republic_V\n",
      "Adding Plato Republic_VI\n",
      "Adding Plato Republic_VII\n",
      "Adding Plato Republic_VIII\n",
      "Adding Plato Republic_X\n",
      "Adding Plato Sophist\n",
      "Adding Plato Statesman\n",
      "Adding Plato Symposium\n",
      "Adding Plato Theaetetus\n",
      "Adding Plato Theages\n",
      "Adding Plato Timaeus\n",
      "Adding Thucydides The_Peloponnesian_War_I\n",
      "Adding Thucydides The_Peloponnesian_War_II\n",
      "Adding Thucydides The_Peloponnesian_War_III\n",
      "Adding Thucydides The_Peloponnesian_War_IV\n",
      "Adding Thucydides The_Peloponnesian_War_V\n",
      "Adding Thucydides The_Peloponnesian_War_VI\n",
      "Adding Thucydides The_Peloponnesian_War_VII\n",
      "Adding Thucydides The_Peloponnesian_War_VIII\n",
      "Adding Xenophon Agesilaus\n",
      "Adding Xenophon Anabasis_I\n",
      "Adding Xenophon Anabasis_II\n",
      "Adding Xenophon Anabasis_III\n",
      "Adding Xenophon Anabasis_IV\n",
      "Adding Xenophon Anabasis_V\n",
      "Adding Xenophon Anabasis_VI\n",
      "Adding Xenophon Anabasis_VII\n",
      "Adding Xenophon Constitution_of_the_Lacedaimonians\n",
      "Adding Xenophon Cyropaedia_I\n",
      "Adding Xenophon Cyropaedia_II\n",
      "Adding Xenophon Cyropaedia_III\n",
      "Adding Xenophon Cyropaedia_IV\n",
      "Adding Xenophon Cyropaedia_V\n",
      "Adding Xenophon Cyropaedia_VI\n",
      "Adding Xenophon Cyropaedia_VII\n",
      "Adding Xenophon Cyropaedia_VIII\n",
      "Adding Xenophon Hellenica_I\n",
      "Adding Xenophon Hellenica_II\n",
      "Adding Xenophon Hellenica_III\n",
      "Adding Xenophon Hellenica_IV\n",
      "Adding Xenophon Hellenica_V\n",
      "Adding Xenophon Hellenica_VI\n",
      "Adding Xenophon Hellenica_VII\n",
      "Adding Xenophon Hiero\n",
      "Adding Xenophon Memorabilia_I\n",
      "Adding Xenophon Memorabilia_II\n",
      "Adding Xenophon Memorabilia_III\n",
      "Adding Xenophon Memorabilia_IV\n",
      "Adding Xenophon On_Hunting\n",
      "Adding Xenophon On_the_Art_of_Horsemanship\n",
      "Adding Xenophon On_the_Cavalry_Commander\n",
      "Adding Xenophon Ways_and_Means\n",
      "Adding Xenophon Xenophon_Apology\n",
      "Adding Xenophon Xenophon_Constitution_of_the_Athenians\n",
      "Adding Xenophon Xenophon_Economics\n",
      "Adding Xenophon Xenophon_Symposium\n"
     ]
    }
   ],
   "source": [
    "import os\n",
    "\n",
    "authors = '/Users/thughes/Dropbox/Code/disputed_authors/Classics/'\n",
    "\n",
    "dataset = pd.DataFrame(columns=['meta_author', 'meta_title', 'meta_body'])\n",
    "\n",
    "for author in os.listdir(authors):\n",
    "    if author == '.DS_Store':\n",
    "        continue\n",
    "    for doc in os.listdir(authors+author):\n",
    "        print \"Adding\", author, doc\n",
    "        f = open(authors+author+\"/\"+doc)\n",
    "        s = f.read()\n",
    "        f.close\n",
    "        \n",
    "        dp = {\n",
    "            'meta_author': author,\n",
    "            'meta_title': doc,\n",
    "            'meta_body': s\n",
    "        }\n",
    "        \n",
    "        dataset = dataset.append(dp, ignore_index=True)\n",
    "        \n"
   ]
  },
  {
   "cell_type": "code",
   "execution_count": 58,
   "metadata": {
    "collapsed": false
   },
   "outputs": [],
   "source": [
    "# Convert the text into tf_idf values\n",
    "from sklearn.feature_extraction.text import TfidfVectorizer\n",
    "\n",
    "vec = TfidfVectorizer()\n",
    "\n",
    "tf_idf_vec = vec.fit_transform(dataset['meta_body'])"
   ]
  },
  {
   "cell_type": "code",
   "execution_count": 59,
   "metadata": {
    "collapsed": false
   },
   "outputs": [],
   "source": [
    "# Convert the tf_idf matrix into a data frame with labels\n",
    "tf_idf_df = pd.DataFrame(columns=vec.get_feature_names(), data=tf_idf_vec.toarray())"
   ]
  },
  {
   "cell_type": "code",
   "execution_count": 60,
   "metadata": {
    "collapsed": false
   },
   "outputs": [],
   "source": [
    "# Combine the original data set with the tf_idf dataframe\n",
    "cluster_df = dataset.join(tf_idf_df).drop('meta_body', 1)"
   ]
  },
  {
   "cell_type": "code",
   "execution_count": 61,
   "metadata": {
    "collapsed": false
   },
   "outputs": [],
   "source": [
    "#cluster_df = cluster_df.set_index('meta_title')"
   ]
  },
  {
   "cell_type": "code",
   "execution_count": 62,
   "metadata": {
    "collapsed": false
   },
   "outputs": [],
   "source": [
    "# These are our final data sets.  y is author, X contains the text data\n",
    "y_set = cluster_df['meta_author']"
   ]
  },
  {
   "cell_type": "code",
   "execution_count": 63,
   "metadata": {
    "collapsed": false
   },
   "outputs": [],
   "source": [
    "X_set = cluster_df"
   ]
  },
  {
   "cell_type": "code",
   "execution_count": 70,
   "metadata": {
    "collapsed": false
   },
   "outputs": [
    {
     "name": "stdout",
     "output_type": "stream",
     "text": [
      "0\n"
     ]
    }
   ],
   "source": [
    "# Naive way to graph a cluster is just reduce the dimensions to 2 with svd\n",
    "from sklearn.decomposition import TruncatedSVD\n",
    "\n",
    "svd = TruncatedSVD(n_components=2)\n",
    "svd.fit(X_set.drop(['meta_author', 'meta_title'], 1))\n",
    "\n",
    "svd_plotdata = []\n",
    "authors = X_set['meta_author'].unique()\n",
    "\n",
    "\n",
    "for author in authors:\n",
    "    svd_plotdata.append(svd.transform(X_set.loc[X_set['meta_author'] == author].drop(['meta_author', 'meta_title'], 1)))\n",
    "    \n",
    "\n",
    "print len(svd_authors)"
   ]
  },
  {
   "cell_type": "code",
   "execution_count": 78,
   "metadata": {
    "collapsed": false
   },
   "outputs": [
    {
     "data": {
      "image/png": "[encoded data removed]",
      "text/plain": [
       "<matplotlib.figure.Figure at 0x10a2c6090>"
      ]
     },
     "metadata": {},
     "output_type": "display_data"
    }
   ],
   "source": [
    "# Graph the results on a 2D plane\n",
    "import matplotlib.pyplot as plt\n",
    "import random\n",
    "\n",
    "%matplotlib inline\n",
    "\n",
    "#plt.figure(figsize=(100,100))\n",
    "plt.figure(figsize=(10,8), dpi=300)\n",
    "plt.ylabel('LSA #1')\n",
    "plt.xlabel('LSA #0')\n",
    "plt.ylim(ymin=-1, ymax=1)\n",
    "plt.title('Clusters of Texts')\n",
    "\n",
    "display_color = ['red', 'blue', 'green', 'pink', 'cyan', 'orange', 'purple', 'yellow']\n",
    "\n",
    "ci = 0\n",
    "for plotdata in svd_plotdata:\n",
    "    plt.scatter(plotdata[:, 0], plotdata[:,1], color=display_color[ci])\n",
    "    ci += 1\n",
    "\n",
    "\n",
    "plt.show()"
   ]
  },
  {
   "cell_type": "markdown",
   "metadata": {
    "collapsed": false
   },
   "source": [
    "# Note on Visualization\n",
    "\n",
    "* Red: Aristotle\n",
    "* Blue: Plato\n",
    "* Pink: Xenophon\n",
    "* Green: Thucydides"
   ]
  },
  {
   "cell_type": "code",
   "execution_count": null,
   "metadata": {
    "collapsed": true
   },
   "outputs": [],
   "source": []
  }
 ],
 "metadata": {
  "kernelspec": {
   "display_name": "Python 2",
   "language": "python",
   "name": "python2"
  },
  "language_info": {
   "codemirror_mode": {
    "name": "ipython",
    "version": 2
   },
   "file_extension": ".py",
   "mimetype": "text/x-python",
   "name": "python",
   "nbconvert_exporter": "python",
   "pygments_lexer": "ipython2",
   "version": "2.7.12"
  }
 },
 "nbformat": 4,
 "nbformat_minor": 1
}
