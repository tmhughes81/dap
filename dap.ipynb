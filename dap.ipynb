{
 "cells": [
  {
   "cell_type": "markdown",
   "metadata": {},
   "source": [
    "# Disputed Author Project (dap)"
   ]
  },
  {
   "cell_type": "code",
   "execution_count": 1,
   "metadata": {
    "collapsed": true
   },
   "outputs": [],
   "source": [
    "import pandas as pd\n",
    "import numpy as np"
   ]
  },
  {
   "cell_type": "code",
   "execution_count": 2,
   "metadata": {
    "collapsed": false
   },
   "outputs": [
    {
     "name": "stdout",
     "output_type": "stream",
     "text": [
      "Adding Plato Alcibiades_I\n",
      "Adding Plato Alcibiades_II\n",
      "Adding Plato Euthyphro\n"
     ]
    }
   ],
   "source": [
    "import os\n",
    "\n",
    "authors = '/Users/thughes/Dropbox/Code/disputed_authors/Classics/'\n",
    "\n",
    "dataset = pd.DataFrame(columns=['meta_author', 'meta_title', 'meta_body'])\n",
    "\n",
    "for author in os.listdir(authors):\n",
    "    for doc in os.listdir(authors+author):\n",
    "        print \"Adding\", author, doc\n",
    "        f = open(authors+author+\"/\"+doc)\n",
    "        s = f.read()\n",
    "        f.close\n",
    "        \n",
    "        dp = {\n",
    "            'meta_author': author,\n",
    "            'meta_title': doc,\n",
    "            'meta_body': s\n",
    "        }\n",
    "        \n",
    "        dataset = dataset.append(dp, ignore_index=True)\n",
    "        \n"
   ]
  },
  {
   "cell_type": "code",
   "execution_count": 5,
   "metadata": {
    "collapsed": false
   },
   "outputs": [],
   "source": [
    "# Convert the text into tf_idf values\n",
    "from sklearn.feature_extraction.text import TfidfVectorizer\n",
    "\n",
    "vec = TfidfVectorizer()\n",
    "\n",
    "tf_idf_vec = vec.fit_transform(dataset['meta_body'])"
   ]
  },
  {
   "cell_type": "code",
   "execution_count": 6,
   "metadata": {
    "collapsed": false
   },
   "outputs": [],
   "source": [
    "# Convert the tf_idf matrix into a data frame with labels\n",
    "tf_idf_df = pd.DataFrame(columns=vec.get_feature_names(), data=tf_idf_vec.toarray())"
   ]
  },
  {
   "cell_type": "code",
   "execution_count": 7,
   "metadata": {
    "collapsed": false
   },
   "outputs": [],
   "source": [
    "# Combine the original data set with the tf_idf dataframe\n",
    "cluster_df = dataset.join(tf_idf_df)"
   ]
  },
  {
   "cell_type": "code",
   "execution_count": 8,
   "metadata": {
    "collapsed": false
   },
   "outputs": [],
   "source": [
    "cluster_df = cluster_df.set_index('meta_title')"
   ]
  },
  {
   "cell_type": "code",
   "execution_count": 9,
   "metadata": {
    "collapsed": false
   },
   "outputs": [],
   "source": [
    "# These are our final data sets.  y is author, X contains the text data\n",
    "y_set = cluster_df['meta_author']\n",
    "X_set = cluster_df.drop('meta_author', 1)"
   ]
  },
  {
   "cell_type": "code",
   "execution_count": 10,
   "metadata": {
    "collapsed": false
   },
   "outputs": [
    {
     "data": {
      "text/plain": [
       "GMM(covariance_type='diag', init_params='wmc', min_covar=0.001,\n",
       "  n_components=1, n_init=1, n_iter=100, params='wmc', random_state=None,\n",
       "  thresh=None, tol=0.001)"
      ]
     },
     "execution_count": 10,
     "metadata": {},
     "output_type": "execute_result"
    }
   ],
   "source": [
    "# Cluster the model using a Gaussian Mixture Method\n",
    "from sklearn.mixture import GMM\n",
    "\n",
    "cluster = GMM()\n",
    "\n",
    "cluster.fit(X_set.drop('meta_body', 1))"
   ]
  },
  {
   "cell_type": "code",
   "execution_count": 11,
   "metadata": {
    "collapsed": false
   },
   "outputs": [],
   "source": [
    "# Naive way to graph a cluster is just reduce the dimensions to 2 with PCA\n",
    "from sklearn.decomposition import PCA\n",
    "\n",
    "pca = PCA(n_components=2)\n",
    "pca_plotdata = pca.fit_transform(X_set.drop('meta_body', 1))"
   ]
  },
  {
   "cell_type": "code",
   "execution_count": 12,
   "metadata": {
    "collapsed": false
   },
   "outputs": [
    {
     "name": "stderr",
     "output_type": "stream",
     "text": [
      "//anaconda/lib/python2.7/site-packages/matplotlib/collections.py:590: FutureWarning: elementwise comparison failed; returning scalar instead, but in the future will perform elementwise comparison\n",
      "  if self._edgecolors == str('face'):\n"
     ]
    },
    {
     "data": {
      "image/png": "[encoded data removed]",
      "text/plain": [
       "<matplotlib.figure.Figure at 0x10c81f690>"
      ]
     },
     "metadata": {},
     "output_type": "display_data"
    }
   ],
   "source": [
    "# Graph the results on a 2D plane\n",
    "import matplotlib.pyplot as plt\n",
    "\n",
    "%matplotlib inline\n",
    "\n",
    "plt.ylabel('PCA #1')\n",
    "plt.xlabel('PCA #0')\n",
    "plt.ylim(ymin=-1, ymax=1)\n",
    "plt.title('Clusters of Texts')\n",
    "plt.scatter(pca_plotdata[:,0], pca_plotdata[:,1])\n",
    "\n",
    "\n",
    "plt.show()"
   ]
  },
  {
   "cell_type": "code",
   "execution_count": null,
   "metadata": {
    "collapsed": true
   },
   "outputs": [],
   "source": []
  }
 ],
 "metadata": {
  "kernelspec": {
   "display_name": "Python 2",
   "language": "python",
   "name": "python2"
  },
  "language_info": {
   "codemirror_mode": {
    "name": "ipython",
    "version": 2
   },
   "file_extension": ".py",
   "mimetype": "text/x-python",
   "name": "python",
   "nbconvert_exporter": "python",
   "pygments_lexer": "ipython2",
   "version": "2.7.12"
  }
 },
 "nbformat": 4,
 "nbformat_minor": 1
}
