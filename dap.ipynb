{
 "cells": [
  {
   "cell_type": "markdown",
   "metadata": {},
   "source": [
    "# Disputed Author Project (dap)"
   ]
  },
  {
   "cell_type": "code",
   "execution_count": null,
   "metadata": {
    "collapsed": true
   },
   "outputs": [],
   "source": [
    "import pandas as pd\n",
    "import numpy as np"
   ]
  },
  {
   "cell_type": "code",
   "execution_count": null,
   "metadata": {
    "collapsed": false
   },
   "outputs": [],
   "source": [
    "# Sample corpus for testing\n",
    "d1 = {\n",
    "    'meta_author': 'Plato',\n",
    "    'meta_title': 'Symposium',\n",
    "    'meta_text': 'This is the text of the Symposium.  It is just an example for testing.'\n",
    "}\n",
    "\n",
    "d2 = {\n",
    "    'meta_author': 'Aristotle',\n",
    "    'meta_title': 'Nico. Ethics',\n",
    "    'meta_text': 'This is a second text, by a different author.  It is still just for testing.'\n",
    "}\n",
    "\n",
    "d3 = {\n",
    "    'meta_author': 'Xenophon',\n",
    "    'meta_title': 'Apology',\n",
    "    'meta_text': 'This is a third text.  It is also just used for testing.  Do not get excited.'\n",
    "}\n",
    "\n",
    "dataset = pd.DataFrame(data=[d1, d2, d3], columns=['meta_author', 'meta_title', 'meta_text'])"
   ]
  },
  {
   "cell_type": "code",
   "execution_count": null,
   "metadata": {
    "collapsed": false
   },
   "outputs": [],
   "source": [
    "# Convert the text into tf_idf values\n",
    "from sklearn.feature_extraction.text import TfidfVectorizer\n",
    "\n",
    "vec = TfidfVectorizer()\n",
    "\n",
    "tf_idf_vec = vec.fit_transform(dataset['meta_text'])"
   ]
  },
  {
   "cell_type": "code",
   "execution_count": null,
   "metadata": {
    "collapsed": false
   },
   "outputs": [],
   "source": [
    "# Convert the tf_idf matrix into a data frame with labels\n",
    "tf_idf_df = pd.DataFrame(columns=vec.get_feature_names(), data=tf_idf_vec.toarray())"
   ]
  },
  {
   "cell_type": "code",
   "execution_count": null,
   "metadata": {
    "collapsed": false
   },
   "outputs": [],
   "source": [
    "# Combine the original data set with the tf_idf dataframe\n",
    "cluster_df = dataset.join(tf_idf_df, lsuffix='_meta')"
   ]
  },
  {
   "cell_type": "code",
   "execution_count": null,
   "metadata": {
    "collapsed": false
   },
   "outputs": [],
   "source": [
    "cluster_df = cluster_df.set_index('meta_title')"
   ]
  },
  {
   "cell_type": "code",
   "execution_count": null,
   "metadata": {
    "collapsed": false
   },
   "outputs": [],
   "source": [
    "# These are our final data sets.  y is author, X contains the text data\n",
    "y_set = cluster_df['meta_author']\n",
    "X_set = cluster_df.drop('meta_author', 1)"
   ]
  },
  {
   "cell_type": "code",
   "execution_count": null,
   "metadata": {
    "collapsed": false
   },
   "outputs": [],
   "source": [
    "# Cluster the model using a Gaussian Mixture Method\n",
    "from sklearn.mixture import GMM\n",
    "\n",
    "cluster = GMM()\n",
    "\n",
    "cluster.fit(X_set.drop('meta_text', 1))"
   ]
  },
  {
   "cell_type": "code",
   "execution_count": null,
   "metadata": {
    "collapsed": false
   },
   "outputs": [],
   "source": [
    "# Naive way to graph a cluster is just reduce the dimensions to 2 with PCA\n",
    "from sklearn.decomposition import PCA\n",
    "\n",
    "pca = PCA(n_components=2)\n",
    "pca_plotdata = pca.fit_transform(X_set.drop('meta_text', 1))"
   ]
  },
  {
   "cell_type": "code",
   "execution_count": null,
   "metadata": {
    "collapsed": false
   },
   "outputs": [],
   "source": [
    "# Graph the results on a 2D plane\n",
    "import matplotlib.pyplot as plt\n",
    "from matplotlib.colors import LogNorm\n",
    "\n",
    "%matplotlib inline\n",
    "\n",
    "plt.ylabel('PCA #1')\n",
    "plt.xlabel('PCA #0')\n",
    "plt.ylim(ymin=-1, ymax=1)\n",
    "plt.title('Clusters of Texts')\n",
    "plt.scatter(pca_plotdata[:,0], pca_plotdata[:,1])\n",
    "\n",
    "\n",
    "plt.show()"
   ]
  },
  {
   "cell_type": "code",
   "execution_count": null,
   "metadata": {
    "collapsed": true
   },
   "outputs": [],
   "source": []
  }
 ],
 "metadata": {
  "kernelspec": {
   "display_name": "Python 2",
   "language": "python",
   "name": "python2"
  },
  "language_info": {
   "codemirror_mode": {
    "name": "ipython",
    "version": 2
   },
   "file_extension": ".py",
   "mimetype": "text/x-python",
   "name": "python",
   "nbconvert_exporter": "python",
   "pygments_lexer": "ipython2",
   "version": "2.7.12"
  }
 },
 "nbformat": 4,
 "nbformat_minor": 1
}
