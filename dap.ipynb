{
 "cells": [
  {
   "cell_type": "markdown",
   "metadata": {},
   "source": [
    "# Disputed Author Project (dap)"
   ]
  },
  {
   "cell_type": "code",
   "execution_count": 2,
   "metadata": {
    "collapsed": true
   },
   "outputs": [],
   "source": [
    "import pandas as pd\n",
    "import numpy as np"
   ]
  },
  {
   "cell_type": "code",
   "execution_count": 8,
   "metadata": {
    "collapsed": false
   },
   "outputs": [
    {
     "name": "stdout",
     "output_type": "stream",
     "text": [
      "      author         title                                               text\n",
      "0      Plato     Symposium  This is the text of the Symposium.  It is just...\n",
      "1  Aristotle  Nico. Ethics  This is a second text, by a different author. ...\n",
      "2   Xenophon       Apology  This is a third text.  It is also just used fo...\n"
     ]
    }
   ],
   "source": [
    "# Sample corpus for testing\n",
    "d1 = {\n",
    "    'author': 'Plato',\n",
    "    'title': 'Symposium',\n",
    "    'text': 'This is the text of the Symposium.  It is just an example for testing.'\n",
    "}\n",
    "\n",
    "d2 = {\n",
    "    'author': 'Aristotle',\n",
    "    'title': 'Nico. Ethics',\n",
    "    'text': 'This is a second text, by a different author.  It is still just for testing.'\n",
    "}\n",
    "\n",
    "d3 = {\n",
    "    'author': 'Xenophon',\n",
    "    'title': 'Apology',\n",
    "    'text': 'This is a third text.  It is also just used for testing.  Do not get excited.'\n",
    "}\n",
    "\n",
    "dataset = pd.DataFrame(data=[d1, d2, d3], columns=['author', 'title', 'text'])\n",
    "\n",
    "print dataset"
   ]
  },
  {
   "cell_type": "code",
   "execution_count": null,
   "metadata": {
    "collapsed": true
   },
   "outputs": [],
   "source": []
  }
 ],
 "metadata": {
  "kernelspec": {
   "display_name": "Python 2",
   "language": "python",
   "name": "python2"
  },
  "language_info": {
   "codemirror_mode": {
    "name": "ipython",
    "version": 2
   },
   "file_extension": ".py",
   "mimetype": "text/x-python",
   "name": "python",
   "nbconvert_exporter": "python",
   "pygments_lexer": "ipython2",
   "version": "2.7.12"
  }
 },
 "nbformat": 4,
 "nbformat_minor": 1
}
